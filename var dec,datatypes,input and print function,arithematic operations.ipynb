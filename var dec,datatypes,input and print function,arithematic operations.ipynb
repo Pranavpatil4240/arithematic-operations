{
 "cells": [
  {
   "cell_type": "code",
   "execution_count": 1,
   "id": "c593fae9-2c2a-474d-a3ec-2dadafdee3d0",
   "metadata": {},
   "outputs": [],
   "source": [
    "#variable declaration or print data in variable\n",
    "city=\"pune\""
   ]
  },
  {
   "cell_type": "code",
   "execution_count": 2,
   "id": "2b8d939d-b845-4687-bfd3-21af6483b07c",
   "metadata": {},
   "outputs": [
    {
     "data": {
      "text/plain": [
       "'pune'"
      ]
     },
     "execution_count": 2,
     "metadata": {},
     "output_type": "execute_result"
    }
   ],
   "source": [
    "city"
   ]
  },
  {
   "cell_type": "code",
   "execution_count": 3,
   "id": "4d2ad84f-6ad4-4f21-afdd-0917b5743833",
   "metadata": {},
   "outputs": [],
   "source": [
    "num5=10"
   ]
  },
  {
   "cell_type": "code",
   "execution_count": 4,
   "id": "0d5cc67a-c1bb-40ff-a7cd-c59ca9f58cad",
   "metadata": {},
   "outputs": [
    {
     "data": {
      "text/plain": [
       "10"
      ]
     },
     "execution_count": 4,
     "metadata": {},
     "output_type": "execute_result"
    }
   ],
   "source": [
    "num5"
   ]
  },
  {
   "cell_type": "code",
   "execution_count": 5,
   "id": "961cb5ed-4170-467a-831a-ee7880ad7f12",
   "metadata": {},
   "outputs": [],
   "source": [
    "pranav_patil=4240\n"
   ]
  },
  {
   "cell_type": "code",
   "execution_count": 6,
   "id": "540185c9-fb9f-4718-ac09-6e4c9684fe61",
   "metadata": {},
   "outputs": [
    {
     "data": {
      "text/plain": [
       "4240"
      ]
     },
     "execution_count": 6,
     "metadata": {},
     "output_type": "execute_result"
    }
   ],
   "source": [
    "pranav_patil"
   ]
  },
  {
   "cell_type": "code",
   "execution_count": 7,
   "id": "a156eab5-8f4c-4947-a2dd-6d83aaa04609",
   "metadata": {},
   "outputs": [],
   "source": [
    "roll_no=10"
   ]
  },
  {
   "cell_type": "code",
   "execution_count": 8,
   "id": "c2fedec2-964d-4607-b043-30d1372ac091",
   "metadata": {},
   "outputs": [
    {
     "data": {
      "text/plain": [
       "10"
      ]
     },
     "execution_count": 8,
     "metadata": {},
     "output_type": "execute_result"
    }
   ],
   "source": [
    "roll_no"
   ]
  },
  {
   "cell_type": "code",
   "execution_count": 19,
   "id": "016e7c73-c298-485f-93ca-744d06d02013",
   "metadata": {},
   "outputs": [],
   "source": [
    "#to determine type of variable\n",
    "pranav_patil=4240"
   ]
  },
  {
   "cell_type": "code",
   "execution_count": 20,
   "id": "0d591ca7-6d49-4ffd-97b7-1947acfa4f1e",
   "metadata": {},
   "outputs": [
    {
     "data": {
      "text/plain": [
       "int"
      ]
     },
     "execution_count": 20,
     "metadata": {},
     "output_type": "execute_result"
    }
   ],
   "source": [
    "type(pranav_patil)"
   ]
  },
  {
   "cell_type": "code",
   "execution_count": 21,
   "id": "79986298-5791-465e-b352-f088eebdc513",
   "metadata": {},
   "outputs": [],
   "source": [
    "name=\"pranav\" + \"patil\""
   ]
  },
  {
   "cell_type": "code",
   "execution_count": 22,
   "id": "d74e1aa7-9a13-4b80-9bd8-831d010d9a10",
   "metadata": {},
   "outputs": [
    {
     "data": {
      "text/plain": [
       "str"
      ]
     },
     "execution_count": 22,
     "metadata": {},
     "output_type": "execute_result"
    }
   ],
   "source": [
    "type(name)"
   ]
  },
  {
   "cell_type": "code",
   "execution_count": 23,
   "id": "4fb0debc-1bbd-48be-a04d-d249911c8360",
   "metadata": {},
   "outputs": [
    {
     "name": "stdin",
     "output_type": "stream",
     "text": [
      "enter any value 10\n"
     ]
    }
   ],
   "source": [
    "# working of input function in python\n",
    "c=int (input(\"enter any value\"))"
   ]
  },
  {
   "cell_type": "code",
   "execution_count": 24,
   "id": "6ebd4f23-c6a3-4b28-a97e-0766a0d0404d",
   "metadata": {},
   "outputs": [
    {
     "data": {
      "text/plain": [
       "int"
      ]
     },
     "execution_count": 24,
     "metadata": {},
     "output_type": "execute_result"
    }
   ],
   "source": [
    "type(c)"
   ]
  },
  {
   "cell_type": "code",
   "execution_count": 25,
   "id": "54079e96-1494-4dd6-be6b-60b107c4be6f",
   "metadata": {},
   "outputs": [
    {
     "name": "stdout",
     "output_type": "stream",
     "text": [
      "the value of c is 10\n"
     ]
    }
   ],
   "source": [
    "#working of print function in python\n",
    "print(\"the value of c is\",c)"
   ]
  },
  {
   "cell_type": "code",
   "execution_count": 26,
   "id": "e42173b2-a06e-4de8-8c3f-d115a8f107ed",
   "metadata": {},
   "outputs": [
    {
     "name": "stdin",
     "output_type": "stream",
     "text": [
      "enter the first number 10\n",
      "enter the second number 20\n"
     ]
    },
    {
     "name": "stdout",
     "output_type": "stream",
     "text": [
      "Addition of two numbers is: 30\n"
     ]
    }
   ],
   "source": [
    "#Arithematic oprations using python\n",
    "#syntax\n",
    "#x=val1\n",
    "#y=val2\n",
    "#z=val1+val2\n",
    "\n",
    "#addition \n",
    "n1=int(input(\"enter the first number\"))\n",
    "n2=int(input(\"enter the second number\"))\n",
    "result=n1+n2\n",
    "print(\"Addition of two numbers is:\",result)\n"
   ]
  },
  {
   "cell_type": "code",
   "execution_count": 27,
   "id": "c97eea97-4c0a-4363-8430-299e0b0242b2",
   "metadata": {},
   "outputs": [
    {
     "name": "stdin",
     "output_type": "stream",
     "text": [
      "enter the first number 10\n",
      "enter the second number 20\n"
     ]
    },
    {
     "name": "stdout",
     "output_type": "stream",
     "text": [
      "Substraction of two numbers is: -10\n"
     ]
    }
   ],
   "source": [
    "#Arithematic oprations using python\n",
    "#substraction\n",
    "n1=int(input(\"enter the first number\"))\n",
    "n2=int(input(\"enter the second number\"))\n",
    "result=n1-n2\n",
    "print(\"Substraction of two numbers is:\",result)\n"
   ]
  },
  {
   "cell_type": "code",
   "execution_count": 29,
   "id": "8943a76a-57d5-4cd2-8008-ac6e6c0f04a6",
   "metadata": {},
   "outputs": [
    {
     "name": "stdin",
     "output_type": "stream",
     "text": [
      "enter the first number 50\n",
      "enter the second number 10\n"
     ]
    },
    {
     "name": "stdout",
     "output_type": "stream",
     "text": [
      "Division of two numbers is: 5.0\n"
     ]
    }
   ],
   "source": [
    "#Arithematic oprations using python\n",
    "#Division\n",
    "n1=int(input(\"enter the first number\"))\n",
    "n2=int(input(\"enter the second number\"))\n",
    "result=n1/n2\n",
    "print(\"Division of two numbers is:\",result)\n"
   ]
  },
  {
   "cell_type": "code",
   "execution_count": 30,
   "id": "1a8d2cef-2f84-45bc-83ef-cd6ceddf62bd",
   "metadata": {},
   "outputs": [
    {
     "name": "stdin",
     "output_type": "stream",
     "text": [
      "enter the first number 10\n",
      "enter the second number 20\n"
     ]
    },
    {
     "name": "stdout",
     "output_type": "stream",
     "text": [
      "Multiplication of two numbers is: 200\n"
     ]
    }
   ],
   "source": [
    "#Arithematic oprations using python\n",
    "#Multiplication\n",
    "n1=int(input(\"enter the first number\"))\n",
    "n2=int(input(\"enter the second number\"))\n",
    "result=n1*n2\n",
    "print(\"Multiplication of two numbers is:\",result)\n",
    "\n"
   ]
  },
  {
   "cell_type": "code",
   "execution_count": 31,
   "id": "40dadd62-341b-4578-a87f-e6b3703c4098",
   "metadata": {},
   "outputs": [
    {
     "name": "stdin",
     "output_type": "stream",
     "text": [
      "enter the first number 20\n",
      "enter the second number 10\n"
     ]
    },
    {
     "name": "stdout",
     "output_type": "stream",
     "text": [
      "Modulus of two numbers is: 0\n"
     ]
    }
   ],
   "source": [
    "#Arithematic oprations using python\n",
    "#Modulus\n",
    "n1=int(input(\"enter the first number\"))\n",
    "n2=int(input(\"enter the second number\"))\n",
    "result=n1%n2\n",
    "print(\"Modulus of two numbers is:\",result)"
   ]
  },
  {
   "cell_type": "code",
   "execution_count": 32,
   "id": "831429b6-c588-449d-bc72-424e4bd121a6",
   "metadata": {},
   "outputs": [
    {
     "name": "stdin",
     "output_type": "stream",
     "text": [
      "enter the first number 50\n",
      "enter the second number 15\n"
     ]
    },
    {
     "name": "stdout",
     "output_type": "stream",
     "text": [
      "quetiont of two numbers is: 3\n"
     ]
    }
   ],
   "source": [
    "#Arithematic oprations using python\n",
    "#quotiont in division\n",
    "n1=int(input(\"enter the first number\"))\n",
    "n2=int(input(\"enter the second number\"))\n",
    "result=n1//n2\n",
    "print(\"quetiont of two numbers is:\",result)\n",
    "\n"
   ]
  },
  {
   "cell_type": "code",
   "execution_count": 33,
   "id": "03dc75bf-aa7e-42e0-b5d0-be5398994918",
   "metadata": {},
   "outputs": [
    {
     "name": "stdin",
     "output_type": "stream",
     "text": [
      "Enter first value 2\n",
      "enter second value 2\n"
     ]
    },
    {
     "name": "stdout",
     "output_type": "stream",
     "text": [
      "add of two numbers is: 4\n",
      "sum of two numbers is : 4\n",
      "sub of two number is : 0\n",
      "div of two number is : 1.0\n",
      "floor division of two number is : 1\n",
      "modulus of two number is : 0\n",
      "exponentiation of two number is : 4\n"
     ]
    }
   ],
   "source": [
    "#WAP to perform all arithematic operations at a time using python\n",
    "n1=int(input(\"Enter first value\"))\n",
    "n2=int(input(\"enter second value\"))\n",
    "add=n1+n2\n",
    "sum=n1*n2\n",
    "sub=n1-n2\n",
    "div=n1/n2\n",
    "floor_div=n1//n2\n",
    "mod=n1%n2\n",
    "expo=n1**n2\n",
    "print(\"add of two numbers is:\",add)\n",
    "print(\"sum of two numbers is :\",sum)\n",
    "print(\"sub of two number is :\",sub)\n",
    "print(\"div of two number is :\",div)\n",
    "print(\"floor division of two number is :\",floor_div)\n",
    "print(\"modulus of two number is :\",mod)\n",
    "print(\"exponentiation of two number is :\",expo)"
   ]
  },
  {
   "cell_type": "code",
   "execution_count": null,
   "id": "18d03f1a-2837-4464-ad05-8a378898f6f5",
   "metadata": {},
   "outputs": [],
   "source": []
  }
 ],
 "metadata": {
  "kernelspec": {
   "display_name": "Python 3 (ipykernel)",
   "language": "python",
   "name": "python3"
  },
  "language_info": {
   "codemirror_mode": {
    "name": "ipython",
    "version": 3
   },
   "file_extension": ".py",
   "mimetype": "text/x-python",
   "name": "python",
   "nbconvert_exporter": "python",
   "pygments_lexer": "ipython3",
   "version": "3.12.4"
  }
 },
 "nbformat": 4,
 "nbformat_minor": 5
}
